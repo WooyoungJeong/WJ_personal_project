{
  "nbformat": 4,
  "nbformat_minor": 0,
  "metadata": {
    "colab": {
      "provenance": [],
      "authorship_tag": "ABX9TyMccQCRJW8iVb1I8L1EUnl2",
      "include_colab_link": true
    },
    "kernelspec": {
      "name": "python3",
      "display_name": "Python 3"
    },
    "language_info": {
      "name": "python"
    }
  },
  "cells": [
    {
      "cell_type": "markdown",
      "metadata": {
        "id": "view-in-github",
        "colab_type": "text"
      },
      "source": [
        "<a href=\"https://colab.research.google.com/github/WooyoungJeong/wjeong/blob/main/Black_Friday_Project.ipynb\" target=\"_parent\"><img src=\"https://colab.research.google.com/assets/colab-badge.svg\" alt=\"Open In Colab\"/></a>"
      ]
    },
    {
      "cell_type": "code",
      "execution_count": 8,
      "metadata": {
        "id": "OEzZ-_xBhpwd"
      },
      "outputs": [],
      "source": [
        "import pandas as pd\n",
        "import matplotlib.pyplot as plt\n",
        "from matplotlib.ticker import PercentFormatter\n",
        "import numpy as np\n",
        "import seaborn as sns\n",
        "import io"
      ]
    },
    {
      "cell_type": "markdown",
      "source": [
        "#1 Data Import"
      ],
      "metadata": {
        "id": "08HhuI-DiPg3"
      }
    },
    {
      "cell_type": "code",
      "source": [
        "from google.colab import files\n",
        "uploaded = files.upload()"
      ],
      "metadata": {
        "colab": {
          "base_uri": "https://localhost:8080/",
          "height": 77
        },
        "id": "2jSphmSjiC9-",
        "outputId": "c01f3ba3-f560-462e-e257-0974a3a79ba2"
      },
      "execution_count": 4,
      "outputs": [
        {
          "output_type": "display_data",
          "data": {
            "text/plain": [
              "<IPython.core.display.HTML object>"
            ],
            "text/html": [
              "\n",
              "     <input type=\"file\" id=\"files-88927397-2c23-4a6d-aa22-a8387e425abb\" name=\"files[]\" multiple disabled\n",
              "        style=\"border:none\" />\n",
              "     <output id=\"result-88927397-2c23-4a6d-aa22-a8387e425abb\">\n",
              "      Upload widget is only available when the cell has been executed in the\n",
              "      current browser session. Please rerun this cell to enable.\n",
              "      </output>\n",
              "      <script>// Copyright 2017 Google LLC\n",
              "//\n",
              "// Licensed under the Apache License, Version 2.0 (the \"License\");\n",
              "// you may not use this file except in compliance with the License.\n",
              "// You may obtain a copy of the License at\n",
              "//\n",
              "//      http://www.apache.org/licenses/LICENSE-2.0\n",
              "//\n",
              "// Unless required by applicable law or agreed to in writing, software\n",
              "// distributed under the License is distributed on an \"AS IS\" BASIS,\n",
              "// WITHOUT WARRANTIES OR CONDITIONS OF ANY KIND, either express or implied.\n",
              "// See the License for the specific language governing permissions and\n",
              "// limitations under the License.\n",
              "\n",
              "/**\n",
              " * @fileoverview Helpers for google.colab Python module.\n",
              " */\n",
              "(function(scope) {\n",
              "function span(text, styleAttributes = {}) {\n",
              "  const element = document.createElement('span');\n",
              "  element.textContent = text;\n",
              "  for (const key of Object.keys(styleAttributes)) {\n",
              "    element.style[key] = styleAttributes[key];\n",
              "  }\n",
              "  return element;\n",
              "}\n",
              "\n",
              "// Max number of bytes which will be uploaded at a time.\n",
              "const MAX_PAYLOAD_SIZE = 100 * 1024;\n",
              "\n",
              "function _uploadFiles(inputId, outputId) {\n",
              "  const steps = uploadFilesStep(inputId, outputId);\n",
              "  const outputElement = document.getElementById(outputId);\n",
              "  // Cache steps on the outputElement to make it available for the next call\n",
              "  // to uploadFilesContinue from Python.\n",
              "  outputElement.steps = steps;\n",
              "\n",
              "  return _uploadFilesContinue(outputId);\n",
              "}\n",
              "\n",
              "// This is roughly an async generator (not supported in the browser yet),\n",
              "// where there are multiple asynchronous steps and the Python side is going\n",
              "// to poll for completion of each step.\n",
              "// This uses a Promise to block the python side on completion of each step,\n",
              "// then passes the result of the previous step as the input to the next step.\n",
              "function _uploadFilesContinue(outputId) {\n",
              "  const outputElement = document.getElementById(outputId);\n",
              "  const steps = outputElement.steps;\n",
              "\n",
              "  const next = steps.next(outputElement.lastPromiseValue);\n",
              "  return Promise.resolve(next.value.promise).then((value) => {\n",
              "    // Cache the last promise value to make it available to the next\n",
              "    // step of the generator.\n",
              "    outputElement.lastPromiseValue = value;\n",
              "    return next.value.response;\n",
              "  });\n",
              "}\n",
              "\n",
              "/**\n",
              " * Generator function which is called between each async step of the upload\n",
              " * process.\n",
              " * @param {string} inputId Element ID of the input file picker element.\n",
              " * @param {string} outputId Element ID of the output display.\n",
              " * @return {!Iterable<!Object>} Iterable of next steps.\n",
              " */\n",
              "function* uploadFilesStep(inputId, outputId) {\n",
              "  const inputElement = document.getElementById(inputId);\n",
              "  inputElement.disabled = false;\n",
              "\n",
              "  const outputElement = document.getElementById(outputId);\n",
              "  outputElement.innerHTML = '';\n",
              "\n",
              "  const pickedPromise = new Promise((resolve) => {\n",
              "    inputElement.addEventListener('change', (e) => {\n",
              "      resolve(e.target.files);\n",
              "    });\n",
              "  });\n",
              "\n",
              "  const cancel = document.createElement('button');\n",
              "  inputElement.parentElement.appendChild(cancel);\n",
              "  cancel.textContent = 'Cancel upload';\n",
              "  const cancelPromise = new Promise((resolve) => {\n",
              "    cancel.onclick = () => {\n",
              "      resolve(null);\n",
              "    };\n",
              "  });\n",
              "\n",
              "  // Wait for the user to pick the files.\n",
              "  const files = yield {\n",
              "    promise: Promise.race([pickedPromise, cancelPromise]),\n",
              "    response: {\n",
              "      action: 'starting',\n",
              "    }\n",
              "  };\n",
              "\n",
              "  cancel.remove();\n",
              "\n",
              "  // Disable the input element since further picks are not allowed.\n",
              "  inputElement.disabled = true;\n",
              "\n",
              "  if (!files) {\n",
              "    return {\n",
              "      response: {\n",
              "        action: 'complete',\n",
              "      }\n",
              "    };\n",
              "  }\n",
              "\n",
              "  for (const file of files) {\n",
              "    const li = document.createElement('li');\n",
              "    li.append(span(file.name, {fontWeight: 'bold'}));\n",
              "    li.append(span(\n",
              "        `(${file.type || 'n/a'}) - ${file.size} bytes, ` +\n",
              "        `last modified: ${\n",
              "            file.lastModifiedDate ? file.lastModifiedDate.toLocaleDateString() :\n",
              "                                    'n/a'} - `));\n",
              "    const percent = span('0% done');\n",
              "    li.appendChild(percent);\n",
              "\n",
              "    outputElement.appendChild(li);\n",
              "\n",
              "    const fileDataPromise = new Promise((resolve) => {\n",
              "      const reader = new FileReader();\n",
              "      reader.onload = (e) => {\n",
              "        resolve(e.target.result);\n",
              "      };\n",
              "      reader.readAsArrayBuffer(file);\n",
              "    });\n",
              "    // Wait for the data to be ready.\n",
              "    let fileData = yield {\n",
              "      promise: fileDataPromise,\n",
              "      response: {\n",
              "        action: 'continue',\n",
              "      }\n",
              "    };\n",
              "\n",
              "    // Use a chunked sending to avoid message size limits. See b/62115660.\n",
              "    let position = 0;\n",
              "    do {\n",
              "      const length = Math.min(fileData.byteLength - position, MAX_PAYLOAD_SIZE);\n",
              "      const chunk = new Uint8Array(fileData, position, length);\n",
              "      position += length;\n",
              "\n",
              "      const base64 = btoa(String.fromCharCode.apply(null, chunk));\n",
              "      yield {\n",
              "        response: {\n",
              "          action: 'append',\n",
              "          file: file.name,\n",
              "          data: base64,\n",
              "        },\n",
              "      };\n",
              "\n",
              "      let percentDone = fileData.byteLength === 0 ?\n",
              "          100 :\n",
              "          Math.round((position / fileData.byteLength) * 100);\n",
              "      percent.textContent = `${percentDone}% done`;\n",
              "\n",
              "    } while (position < fileData.byteLength);\n",
              "  }\n",
              "\n",
              "  // All done.\n",
              "  yield {\n",
              "    response: {\n",
              "      action: 'complete',\n",
              "    }\n",
              "  };\n",
              "}\n",
              "\n",
              "scope.google = scope.google || {};\n",
              "scope.google.colab = scope.google.colab || {};\n",
              "scope.google.colab._files = {\n",
              "  _uploadFiles,\n",
              "  _uploadFilesContinue,\n",
              "};\n",
              "})(self);\n",
              "</script> "
            ]
          },
          "metadata": {}
        },
        {
          "output_type": "stream",
          "name": "stdout",
          "text": [
            "Saving black_friday.csv to black_friday (1).csv\n"
          ]
        }
      ]
    },
    {
      "cell_type": "code",
      "source": [
        "df = pd.read_csv(io.BytesIO(uploaded['black_friday.csv']))"
      ],
      "metadata": {
        "id": "U9HFNHVxlnOA"
      },
      "execution_count": 9,
      "outputs": []
    },
    {
      "cell_type": "code",
      "source": [
        "## rename columns to make easier to code\n",
        "df = df.rename(columns = {'User_ID' : 'userid', 'Product_ID' : 'productid', 'Gender' : 'gender', 'Age' : 'age',\n",
        "                          'Occupation' : 'occupation', 'City_Category' : 'citycategory', 'Stay_In_Current_City_Years' : 'stayedyears',\n",
        "                          'Marital_Status' : 'maritalstatus', 'Product_Category_1' : 'productcategory1', 'Product_Category_2' : 'productcategory2',\n",
        "                          'Product_Category_3' : 'productcategory3', 'Purchase' : 'purchase'})\n",
        "df.head()"
      ],
      "metadata": {
        "colab": {
          "base_uri": "https://localhost:8080/",
          "height": 206
        },
        "id": "re4tBMYslIlL",
        "outputId": "8d9775a4-80e8-4030-d990-3c454ad6414c"
      },
      "execution_count": 10,
      "outputs": [
        {
          "output_type": "execute_result",
          "data": {
            "text/plain": [
              "    userid  productid gender   age  occupation citycategory stayedyears  \\\n",
              "0  1000001  P00069042      F  0-17          10            A           2   \n",
              "1  1000001  P00248942      F  0-17          10            A           2   \n",
              "2  1000001  P00087842      F  0-17          10            A           2   \n",
              "3  1000001  P00085442      F  0-17          10            A           2   \n",
              "4  1000002  P00285442      M   55+          16            C          4+   \n",
              "\n",
              "   maritalstatus  productcategory1  productcategory2  productcategory3  \\\n",
              "0              0                 3               NaN               NaN   \n",
              "1              0                 1               6.0              14.0   \n",
              "2              0                12               NaN               NaN   \n",
              "3              0                12              14.0               NaN   \n",
              "4              0                 8               NaN               NaN   \n",
              "\n",
              "   purchase  \n",
              "0      8370  \n",
              "1     15200  \n",
              "2      1422  \n",
              "3      1057  \n",
              "4      7969  "
            ],
            "text/html": [
              "\n",
              "  <div id=\"df-14c84cf7-1623-4106-91d2-60b876319f7a\">\n",
              "    <div class=\"colab-df-container\">\n",
              "      <div>\n",
              "<style scoped>\n",
              "    .dataframe tbody tr th:only-of-type {\n",
              "        vertical-align: middle;\n",
              "    }\n",
              "\n",
              "    .dataframe tbody tr th {\n",
              "        vertical-align: top;\n",
              "    }\n",
              "\n",
              "    .dataframe thead th {\n",
              "        text-align: right;\n",
              "    }\n",
              "</style>\n",
              "<table border=\"1\" class=\"dataframe\">\n",
              "  <thead>\n",
              "    <tr style=\"text-align: right;\">\n",
              "      <th></th>\n",
              "      <th>userid</th>\n",
              "      <th>productid</th>\n",
              "      <th>gender</th>\n",
              "      <th>age</th>\n",
              "      <th>occupation</th>\n",
              "      <th>citycategory</th>\n",
              "      <th>stayedyears</th>\n",
              "      <th>maritalstatus</th>\n",
              "      <th>productcategory1</th>\n",
              "      <th>productcategory2</th>\n",
              "      <th>productcategory3</th>\n",
              "      <th>purchase</th>\n",
              "    </tr>\n",
              "  </thead>\n",
              "  <tbody>\n",
              "    <tr>\n",
              "      <th>0</th>\n",
              "      <td>1000001</td>\n",
              "      <td>P00069042</td>\n",
              "      <td>F</td>\n",
              "      <td>0-17</td>\n",
              "      <td>10</td>\n",
              "      <td>A</td>\n",
              "      <td>2</td>\n",
              "      <td>0</td>\n",
              "      <td>3</td>\n",
              "      <td>NaN</td>\n",
              "      <td>NaN</td>\n",
              "      <td>8370</td>\n",
              "    </tr>\n",
              "    <tr>\n",
              "      <th>1</th>\n",
              "      <td>1000001</td>\n",
              "      <td>P00248942</td>\n",
              "      <td>F</td>\n",
              "      <td>0-17</td>\n",
              "      <td>10</td>\n",
              "      <td>A</td>\n",
              "      <td>2</td>\n",
              "      <td>0</td>\n",
              "      <td>1</td>\n",
              "      <td>6.0</td>\n",
              "      <td>14.0</td>\n",
              "      <td>15200</td>\n",
              "    </tr>\n",
              "    <tr>\n",
              "      <th>2</th>\n",
              "      <td>1000001</td>\n",
              "      <td>P00087842</td>\n",
              "      <td>F</td>\n",
              "      <td>0-17</td>\n",
              "      <td>10</td>\n",
              "      <td>A</td>\n",
              "      <td>2</td>\n",
              "      <td>0</td>\n",
              "      <td>12</td>\n",
              "      <td>NaN</td>\n",
              "      <td>NaN</td>\n",
              "      <td>1422</td>\n",
              "    </tr>\n",
              "    <tr>\n",
              "      <th>3</th>\n",
              "      <td>1000001</td>\n",
              "      <td>P00085442</td>\n",
              "      <td>F</td>\n",
              "      <td>0-17</td>\n",
              "      <td>10</td>\n",
              "      <td>A</td>\n",
              "      <td>2</td>\n",
              "      <td>0</td>\n",
              "      <td>12</td>\n",
              "      <td>14.0</td>\n",
              "      <td>NaN</td>\n",
              "      <td>1057</td>\n",
              "    </tr>\n",
              "    <tr>\n",
              "      <th>4</th>\n",
              "      <td>1000002</td>\n",
              "      <td>P00285442</td>\n",
              "      <td>M</td>\n",
              "      <td>55+</td>\n",
              "      <td>16</td>\n",
              "      <td>C</td>\n",
              "      <td>4+</td>\n",
              "      <td>0</td>\n",
              "      <td>8</td>\n",
              "      <td>NaN</td>\n",
              "      <td>NaN</td>\n",
              "      <td>7969</td>\n",
              "    </tr>\n",
              "  </tbody>\n",
              "</table>\n",
              "</div>\n",
              "      <button class=\"colab-df-convert\" onclick=\"convertToInteractive('df-14c84cf7-1623-4106-91d2-60b876319f7a')\"\n",
              "              title=\"Convert this dataframe to an interactive table.\"\n",
              "              style=\"display:none;\">\n",
              "        \n",
              "  <svg xmlns=\"http://www.w3.org/2000/svg\" height=\"24px\"viewBox=\"0 0 24 24\"\n",
              "       width=\"24px\">\n",
              "    <path d=\"M0 0h24v24H0V0z\" fill=\"none\"/>\n",
              "    <path d=\"M18.56 5.44l.94 2.06.94-2.06 2.06-.94-2.06-.94-.94-2.06-.94 2.06-2.06.94zm-11 1L8.5 8.5l.94-2.06 2.06-.94-2.06-.94L8.5 2.5l-.94 2.06-2.06.94zm10 10l.94 2.06.94-2.06 2.06-.94-2.06-.94-.94-2.06-.94 2.06-2.06.94z\"/><path d=\"M17.41 7.96l-1.37-1.37c-.4-.4-.92-.59-1.43-.59-.52 0-1.04.2-1.43.59L10.3 9.45l-7.72 7.72c-.78.78-.78 2.05 0 2.83L4 21.41c.39.39.9.59 1.41.59.51 0 1.02-.2 1.41-.59l7.78-7.78 2.81-2.81c.8-.78.8-2.07 0-2.86zM5.41 20L4 18.59l7.72-7.72 1.47 1.35L5.41 20z\"/>\n",
              "  </svg>\n",
              "      </button>\n",
              "      \n",
              "  <style>\n",
              "    .colab-df-container {\n",
              "      display:flex;\n",
              "      flex-wrap:wrap;\n",
              "      gap: 12px;\n",
              "    }\n",
              "\n",
              "    .colab-df-convert {\n",
              "      background-color: #E8F0FE;\n",
              "      border: none;\n",
              "      border-radius: 50%;\n",
              "      cursor: pointer;\n",
              "      display: none;\n",
              "      fill: #1967D2;\n",
              "      height: 32px;\n",
              "      padding: 0 0 0 0;\n",
              "      width: 32px;\n",
              "    }\n",
              "\n",
              "    .colab-df-convert:hover {\n",
              "      background-color: #E2EBFA;\n",
              "      box-shadow: 0px 1px 2px rgba(60, 64, 67, 0.3), 0px 1px 3px 1px rgba(60, 64, 67, 0.15);\n",
              "      fill: #174EA6;\n",
              "    }\n",
              "\n",
              "    [theme=dark] .colab-df-convert {\n",
              "      background-color: #3B4455;\n",
              "      fill: #D2E3FC;\n",
              "    }\n",
              "\n",
              "    [theme=dark] .colab-df-convert:hover {\n",
              "      background-color: #434B5C;\n",
              "      box-shadow: 0px 1px 3px 1px rgba(0, 0, 0, 0.15);\n",
              "      filter: drop-shadow(0px 1px 2px rgba(0, 0, 0, 0.3));\n",
              "      fill: #FFFFFF;\n",
              "    }\n",
              "  </style>\n",
              "\n",
              "      <script>\n",
              "        const buttonEl =\n",
              "          document.querySelector('#df-14c84cf7-1623-4106-91d2-60b876319f7a button.colab-df-convert');\n",
              "        buttonEl.style.display =\n",
              "          google.colab.kernel.accessAllowed ? 'block' : 'none';\n",
              "\n",
              "        async function convertToInteractive(key) {\n",
              "          const element = document.querySelector('#df-14c84cf7-1623-4106-91d2-60b876319f7a');\n",
              "          const dataTable =\n",
              "            await google.colab.kernel.invokeFunction('convertToInteractive',\n",
              "                                                     [key], {});\n",
              "          if (!dataTable) return;\n",
              "\n",
              "          const docLinkHtml = 'Like what you see? Visit the ' +\n",
              "            '<a target=\"_blank\" href=https://colab.research.google.com/notebooks/data_table.ipynb>data table notebook</a>'\n",
              "            + ' to learn more about interactive tables.';\n",
              "          element.innerHTML = '';\n",
              "          dataTable['output_type'] = 'display_data';\n",
              "          await google.colab.output.renderOutput(dataTable, element);\n",
              "          const docLink = document.createElement('div');\n",
              "          docLink.innerHTML = docLinkHtml;\n",
              "          element.appendChild(docLink);\n",
              "        }\n",
              "      </script>\n",
              "    </div>\n",
              "  </div>\n",
              "  "
            ]
          },
          "metadata": {},
          "execution_count": 10
        }
      ]
    },
    {
      "cell_type": "code",
      "source": [
        "# check number of rows and columns of dataset\n",
        "df.shape"
      ],
      "metadata": {
        "colab": {
          "base_uri": "https://localhost:8080/"
        },
        "id": "MlLdkMsolMsc",
        "outputId": "3475bc2c-1ddc-463c-d2c9-b926b50279bb"
      },
      "execution_count": 11,
      "outputs": [
        {
          "output_type": "execute_result",
          "data": {
            "text/plain": [
              "(550068, 12)"
            ]
          },
          "metadata": {},
          "execution_count": 11
        }
      ]
    },
    {
      "cell_type": "code",
      "source": [
        "# check range of numbers in category\n",
        "df.productcategory1.value_counts()"
      ],
      "metadata": {
        "colab": {
          "base_uri": "https://localhost:8080/"
        },
        "id": "_SdVVLoZlSiE",
        "outputId": "5eb895a5-08a6-4144-c0ec-70e9aa6e62e3"
      },
      "execution_count": 12,
      "outputs": [
        {
          "output_type": "execute_result",
          "data": {
            "text/plain": [
              "5     150933\n",
              "1     140378\n",
              "8     113925\n",
              "11     24287\n",
              "2      23864\n",
              "6      20466\n",
              "3      20213\n",
              "4      11753\n",
              "16      9828\n",
              "15      6290\n",
              "13      5549\n",
              "10      5125\n",
              "12      3947\n",
              "7       3721\n",
              "18      3125\n",
              "20      2550\n",
              "19      1603\n",
              "14      1523\n",
              "17       578\n",
              "9        410\n",
              "Name: productcategory1, dtype: int64"
            ]
          },
          "metadata": {},
          "execution_count": 12
        }
      ]
    },
    {
      "cell_type": "markdown",
      "source": [
        "#### Null Values in dataset\n",
        "\n",
        "There were null values in only category 2 and 3.\n",
        "This refers that items that have null values have just 1 or 2 categories for those items.\n",
        "Null values will be filled with 0 which is not a number for product category."
      ],
      "metadata": {
        "id": "4n1ILNipl1FQ"
      }
    },
    {
      "cell_type": "code",
      "source": [
        "# Check number of null values per column\n",
        "df.isnull().sum()"
      ],
      "metadata": {
        "colab": {
          "base_uri": "https://localhost:8080/"
        },
        "id": "xEjSZedAuHNs",
        "outputId": "94d12a03-0e99-493e-8eda-9f1a65bf5752"
      },
      "execution_count": 15,
      "outputs": [
        {
          "output_type": "execute_result",
          "data": {
            "text/plain": [
              "userid                   0\n",
              "productid                0\n",
              "gender                   0\n",
              "age                      0\n",
              "occupation               0\n",
              "citycategory             0\n",
              "stayedyears              0\n",
              "maritalstatus            0\n",
              "productcategory1         0\n",
              "productcategory2    173638\n",
              "productcategory3    383247\n",
              "purchase                 0\n",
              "dtype: int64"
            ]
          },
          "metadata": {},
          "execution_count": 15
        }
      ]
    },
    {
      "cell_type": "code",
      "source": [
        "# fill na value with 0 in product category\n",
        "df = df.fillna(0)"
      ],
      "metadata": {
        "id": "yiGdc3QjuG6I"
      },
      "execution_count": 17,
      "outputs": []
    },
    {
      "cell_type": "code",
      "source": [
        "# check duplicates\n",
        "df.duplicated().sum()"
      ],
      "metadata": {
        "colab": {
          "base_uri": "https://localhost:8080/"
        },
        "id": "j1_ZWzH0uPy6",
        "outputId": "2cfb8254-0834-44dd-9459-b340fd883f90"
      },
      "execution_count": 18,
      "outputs": [
        {
          "output_type": "execute_result",
          "data": {
            "text/plain": [
              "0"
            ]
          },
          "metadata": {},
          "execution_count": 18
        }
      ]
    },
    {
      "cell_type": "markdown",
      "source": [
        "#### Data cleaning for column\n",
        "\n",
        "Cleaned each column to double check data type or any values that can be disturbed while doing data analysis"
      ],
      "metadata": {
        "id": "ZzZ2i24juTbC"
      }
    },
    {
      "cell_type": "code",
      "source": [
        "# Clean and check column variables\n",
        "# userid\n",
        "\n",
        "df.userid.unique()"
      ],
      "metadata": {
        "colab": {
          "base_uri": "https://localhost:8080/"
        },
        "id": "PYZzKHHvuWMT",
        "outputId": "b5e67621-0da9-4e32-e645-65bf0d4116f1"
      },
      "execution_count": 19,
      "outputs": [
        {
          "output_type": "execute_result",
          "data": {
            "text/plain": [
              "array([1000001, 1000002, 1000003, ..., 1004113, 1005391, 1001529])"
            ]
          },
          "metadata": {},
          "execution_count": 19
        }
      ]
    },
    {
      "cell_type": "code",
      "source": [
        "# productid\n",
        "\n",
        "df.productid.unique()"
      ],
      "metadata": {
        "colab": {
          "base_uri": "https://localhost:8080/"
        },
        "id": "AVaaDmX_uYH1",
        "outputId": "a17b09b5-dc3d-4b60-c568-60db1e15a820"
      },
      "execution_count": 20,
      "outputs": [
        {
          "output_type": "execute_result",
          "data": {
            "text/plain": [
              "array(['P00069042', 'P00248942', 'P00087842', ..., 'P00370293',\n",
              "       'P00371644', 'P00370853'], dtype=object)"
            ]
          },
          "metadata": {},
          "execution_count": 20
        }
      ]
    },
    {
      "cell_type": "code",
      "source": [
        "#gender\n",
        "\n",
        "df.gender.unique()"
      ],
      "metadata": {
        "colab": {
          "base_uri": "https://localhost:8080/"
        },
        "id": "rt-eyU4yuaCd",
        "outputId": "6e422cce-0aa6-4a39-dc5e-e5b1b8f87f54"
      },
      "execution_count": 21,
      "outputs": [
        {
          "output_type": "execute_result",
          "data": {
            "text/plain": [
              "array(['F', 'M'], dtype=object)"
            ]
          },
          "metadata": {},
          "execution_count": 21
        }
      ]
    },
    {
      "cell_type": "code",
      "source": [
        "# age\n",
        "df.age.unique()"
      ],
      "metadata": {
        "colab": {
          "base_uri": "https://localhost:8080/"
        },
        "id": "rwRfoBiFubLY",
        "outputId": "6eecf8f5-4862-4c8d-8024-9cbafd8c4dc6"
      },
      "execution_count": 22,
      "outputs": [
        {
          "output_type": "execute_result",
          "data": {
            "text/plain": [
              "array(['0-17', '55+', '26-35', '46-50', '51-55', '36-45', '18-25'],\n",
              "      dtype=object)"
            ]
          },
          "metadata": {},
          "execution_count": 22
        }
      ]
    },
    {
      "cell_type": "code",
      "source": [
        "# occupation\n",
        "df.occupation.unique()"
      ],
      "metadata": {
        "colab": {
          "base_uri": "https://localhost:8080/"
        },
        "id": "16LrGbMPucZ8",
        "outputId": "178b62b0-2581-46ab-de72-e44fa0ded6ba"
      },
      "execution_count": 23,
      "outputs": [
        {
          "output_type": "execute_result",
          "data": {
            "text/plain": [
              "array([10, 16, 15,  7, 20,  9,  1, 12, 17,  0,  3,  4, 11,  8, 19,  2, 18,\n",
              "        5, 14, 13,  6])"
            ]
          },
          "metadata": {},
          "execution_count": 23
        }
      ]
    },
    {
      "cell_type": "code",
      "source": [
        "# city\n",
        "df.citycategory.unique()"
      ],
      "metadata": {
        "colab": {
          "base_uri": "https://localhost:8080/"
        },
        "id": "9vDBjVwGudiZ",
        "outputId": "c2d556ba-25ac-4d33-ecb0-990948d3c13f"
      },
      "execution_count": 24,
      "outputs": [
        {
          "output_type": "execute_result",
          "data": {
            "text/plain": [
              "array(['A', 'C', 'B'], dtype=object)"
            ]
          },
          "metadata": {},
          "execution_count": 24
        }
      ]
    },
    {
      "cell_type": "code",
      "source": [
        "# stayed years\n",
        "df.stayedyears.unique()"
      ],
      "metadata": {
        "colab": {
          "base_uri": "https://localhost:8080/"
        },
        "id": "siKCaz-luej3",
        "outputId": "23fbd027-5819-4e89-a107-44e6df4fa08f"
      },
      "execution_count": 25,
      "outputs": [
        {
          "output_type": "execute_result",
          "data": {
            "text/plain": [
              "array(['2', '4+', '3', '1', '0'], dtype=object)"
            ]
          },
          "metadata": {},
          "execution_count": 25
        }
      ]
    },
    {
      "cell_type": "code",
      "source": [
        "# change stayedyears to int type\n",
        "\n",
        "def remove_plus(x):\n",
        "    if '+' in x:\n",
        "        x = x.replace('+', '')\n",
        "        return x\n",
        "    else: return x\n",
        "df['stayedyears'] = df.stayedyears.map(remove_plus).astype('int64')\n",
        "\n"
      ],
      "metadata": {
        "id": "zUJyTJbXufXO"
      },
      "execution_count": 26,
      "outputs": []
    },
    {
      "cell_type": "code",
      "source": [
        "# check stayedyears\n",
        "df.stayedyears.unique()"
      ],
      "metadata": {
        "colab": {
          "base_uri": "https://localhost:8080/"
        },
        "id": "FUBVcB5_ugVB",
        "outputId": "66ed8838-aa29-44d4-891b-954c75dc499d"
      },
      "execution_count": 27,
      "outputs": [
        {
          "output_type": "execute_result",
          "data": {
            "text/plain": [
              "array([2, 4, 3, 1, 0])"
            ]
          },
          "metadata": {},
          "execution_count": 27
        }
      ]
    },
    {
      "cell_type": "code",
      "source": [
        "# maritalstatus\n",
        "\n",
        "df.maritalstatus.unique()"
      ],
      "metadata": {
        "colab": {
          "base_uri": "https://localhost:8080/"
        },
        "id": "VnNmlmKxuhcQ",
        "outputId": "bc93cbf9-2661-4245-cf9e-5116a5ceb0d5"
      },
      "execution_count": 28,
      "outputs": [
        {
          "output_type": "execute_result",
          "data": {
            "text/plain": [
              "array([0, 1])"
            ]
          },
          "metadata": {},
          "execution_count": 28
        }
      ]
    },
    {
      "cell_type": "code",
      "source": [
        "# check productcategory1\n",
        "\n",
        "df.productcategory1.unique()"
      ],
      "metadata": {
        "colab": {
          "base_uri": "https://localhost:8080/"
        },
        "id": "HD6-I7HfuiRE",
        "outputId": "e9f6e2ef-6b68-40b0-aa7e-3436aa7edc5a"
      },
      "execution_count": 29,
      "outputs": [
        {
          "output_type": "execute_result",
          "data": {
            "text/plain": [
              "array([ 3,  1, 12,  8,  5,  4,  2,  6, 14, 11, 13, 15,  7, 16, 18, 10, 17,\n",
              "        9, 20, 19])"
            ]
          },
          "metadata": {},
          "execution_count": 29
        }
      ]
    },
    {
      "cell_type": "code",
      "source": [
        "# check productcategory2\n",
        "\n",
        "df.productcategory2.unique()"
      ],
      "metadata": {
        "colab": {
          "base_uri": "https://localhost:8080/"
        },
        "id": "g5FQSprtujFo",
        "outputId": "de324108-20f1-4acb-d03a-8a9901daa720"
      },
      "execution_count": 30,
      "outputs": [
        {
          "output_type": "execute_result",
          "data": {
            "text/plain": [
              "array([ 0.,  6., 14.,  2.,  8., 15., 16., 11.,  5.,  3.,  4., 12.,  9.,\n",
              "       10., 17., 13.,  7., 18.])"
            ]
          },
          "metadata": {},
          "execution_count": 30
        }
      ]
    },
    {
      "cell_type": "code",
      "source": [
        "# change productcategory2 type to int\n",
        "df['productcategory2'] = df.productcategory2.astype('int64')"
      ],
      "metadata": {
        "id": "spNnc3KQukYG"
      },
      "execution_count": 31,
      "outputs": []
    },
    {
      "cell_type": "code",
      "source": [
        "# check productcategory3\n",
        "df.productcategory3.unique()\n"
      ],
      "metadata": {
        "colab": {
          "base_uri": "https://localhost:8080/"
        },
        "id": "tFy8Nl9nulK9",
        "outputId": "92b1c112-42e8-420a-85da-cd5a635bde83"
      },
      "execution_count": 32,
      "outputs": [
        {
          "output_type": "execute_result",
          "data": {
            "text/plain": [
              "array([ 0., 14., 17.,  5.,  4., 16., 15.,  8.,  9., 13.,  6., 12.,  3.,\n",
              "       18., 11., 10.])"
            ]
          },
          "metadata": {},
          "execution_count": 32
        }
      ]
    },
    {
      "cell_type": "code",
      "source": [
        "# change productcategory2 type to int\n",
        "df['productcategory3'] = df.productcategory3.astype('int64')"
      ],
      "metadata": {
        "id": "5v2M1h3mul4q"
      },
      "execution_count": 33,
      "outputs": []
    },
    {
      "cell_type": "code",
      "source": [
        "# check purchase\n",
        "df.purchase.unique()"
      ],
      "metadata": {
        "colab": {
          "base_uri": "https://localhost:8080/"
        },
        "id": "CvisIX4Hum4q",
        "outputId": "2b97a557-c9f4-4f89-aedf-a4bb62722f97"
      },
      "execution_count": 34,
      "outputs": [
        {
          "output_type": "execute_result",
          "data": {
            "text/plain": [
              "array([ 8370, 15200,  1422, ...,   135,   123,   613])"
            ]
          },
          "metadata": {},
          "execution_count": 34
        }
      ]
    },
    {
      "cell_type": "code",
      "source": [
        "# final columns check\n",
        "df.info()"
      ],
      "metadata": {
        "colab": {
          "base_uri": "https://localhost:8080/"
        },
        "id": "tt-J1mxsuoZf",
        "outputId": "c27af4b2-b809-4931-8c06-07468012d564"
      },
      "execution_count": 35,
      "outputs": [
        {
          "output_type": "stream",
          "name": "stdout",
          "text": [
            "<class 'pandas.core.frame.DataFrame'>\n",
            "RangeIndex: 550068 entries, 0 to 550067\n",
            "Data columns (total 12 columns):\n",
            " #   Column            Non-Null Count   Dtype \n",
            "---  ------            --------------   ----- \n",
            " 0   userid            550068 non-null  int64 \n",
            " 1   productid         550068 non-null  object\n",
            " 2   gender            550068 non-null  object\n",
            " 3   age               550068 non-null  object\n",
            " 4   occupation        550068 non-null  int64 \n",
            " 5   citycategory      550068 non-null  object\n",
            " 6   stayedyears       550068 non-null  int64 \n",
            " 7   maritalstatus     550068 non-null  int64 \n",
            " 8   productcategory1  550068 non-null  int64 \n",
            " 9   productcategory2  550068 non-null  int64 \n",
            " 10  productcategory3  550068 non-null  int64 \n",
            " 11  purchase          550068 non-null  int64 \n",
            "dtypes: int64(8), object(4)\n",
            "memory usage: 50.4+ MB\n"
          ]
        }
      ]
    },
    {
      "cell_type": "code",
      "source": [
        "df.head()"
      ],
      "metadata": {
        "colab": {
          "base_uri": "https://localhost:8080/",
          "height": 206
        },
        "id": "MTumknihupr6",
        "outputId": "facbee43-2041-47bf-fc7d-60ffc8070dbd"
      },
      "execution_count": 36,
      "outputs": [
        {
          "output_type": "execute_result",
          "data": {
            "text/plain": [
              "    userid  productid gender   age  occupation citycategory  stayedyears  \\\n",
              "0  1000001  P00069042      F  0-17          10            A            2   \n",
              "1  1000001  P00248942      F  0-17          10            A            2   \n",
              "2  1000001  P00087842      F  0-17          10            A            2   \n",
              "3  1000001  P00085442      F  0-17          10            A            2   \n",
              "4  1000002  P00285442      M   55+          16            C            4   \n",
              "\n",
              "   maritalstatus  productcategory1  productcategory2  productcategory3  \\\n",
              "0              0                 3                 0                 0   \n",
              "1              0                 1                 6                14   \n",
              "2              0                12                 0                 0   \n",
              "3              0                12                14                 0   \n",
              "4              0                 8                 0                 0   \n",
              "\n",
              "   purchase  \n",
              "0      8370  \n",
              "1     15200  \n",
              "2      1422  \n",
              "3      1057  \n",
              "4      7969  "
            ],
            "text/html": [
              "\n",
              "  <div id=\"df-65ff9307-1c03-4a3c-bf4d-c435392ebd56\">\n",
              "    <div class=\"colab-df-container\">\n",
              "      <div>\n",
              "<style scoped>\n",
              "    .dataframe tbody tr th:only-of-type {\n",
              "        vertical-align: middle;\n",
              "    }\n",
              "\n",
              "    .dataframe tbody tr th {\n",
              "        vertical-align: top;\n",
              "    }\n",
              "\n",
              "    .dataframe thead th {\n",
              "        text-align: right;\n",
              "    }\n",
              "</style>\n",
              "<table border=\"1\" class=\"dataframe\">\n",
              "  <thead>\n",
              "    <tr style=\"text-align: right;\">\n",
              "      <th></th>\n",
              "      <th>userid</th>\n",
              "      <th>productid</th>\n",
              "      <th>gender</th>\n",
              "      <th>age</th>\n",
              "      <th>occupation</th>\n",
              "      <th>citycategory</th>\n",
              "      <th>stayedyears</th>\n",
              "      <th>maritalstatus</th>\n",
              "      <th>productcategory1</th>\n",
              "      <th>productcategory2</th>\n",
              "      <th>productcategory3</th>\n",
              "      <th>purchase</th>\n",
              "    </tr>\n",
              "  </thead>\n",
              "  <tbody>\n",
              "    <tr>\n",
              "      <th>0</th>\n",
              "      <td>1000001</td>\n",
              "      <td>P00069042</td>\n",
              "      <td>F</td>\n",
              "      <td>0-17</td>\n",
              "      <td>10</td>\n",
              "      <td>A</td>\n",
              "      <td>2</td>\n",
              "      <td>0</td>\n",
              "      <td>3</td>\n",
              "      <td>0</td>\n",
              "      <td>0</td>\n",
              "      <td>8370</td>\n",
              "    </tr>\n",
              "    <tr>\n",
              "      <th>1</th>\n",
              "      <td>1000001</td>\n",
              "      <td>P00248942</td>\n",
              "      <td>F</td>\n",
              "      <td>0-17</td>\n",
              "      <td>10</td>\n",
              "      <td>A</td>\n",
              "      <td>2</td>\n",
              "      <td>0</td>\n",
              "      <td>1</td>\n",
              "      <td>6</td>\n",
              "      <td>14</td>\n",
              "      <td>15200</td>\n",
              "    </tr>\n",
              "    <tr>\n",
              "      <th>2</th>\n",
              "      <td>1000001</td>\n",
              "      <td>P00087842</td>\n",
              "      <td>F</td>\n",
              "      <td>0-17</td>\n",
              "      <td>10</td>\n",
              "      <td>A</td>\n",
              "      <td>2</td>\n",
              "      <td>0</td>\n",
              "      <td>12</td>\n",
              "      <td>0</td>\n",
              "      <td>0</td>\n",
              "      <td>1422</td>\n",
              "    </tr>\n",
              "    <tr>\n",
              "      <th>3</th>\n",
              "      <td>1000001</td>\n",
              "      <td>P00085442</td>\n",
              "      <td>F</td>\n",
              "      <td>0-17</td>\n",
              "      <td>10</td>\n",
              "      <td>A</td>\n",
              "      <td>2</td>\n",
              "      <td>0</td>\n",
              "      <td>12</td>\n",
              "      <td>14</td>\n",
              "      <td>0</td>\n",
              "      <td>1057</td>\n",
              "    </tr>\n",
              "    <tr>\n",
              "      <th>4</th>\n",
              "      <td>1000002</td>\n",
              "      <td>P00285442</td>\n",
              "      <td>M</td>\n",
              "      <td>55+</td>\n",
              "      <td>16</td>\n",
              "      <td>C</td>\n",
              "      <td>4</td>\n",
              "      <td>0</td>\n",
              "      <td>8</td>\n",
              "      <td>0</td>\n",
              "      <td>0</td>\n",
              "      <td>7969</td>\n",
              "    </tr>\n",
              "  </tbody>\n",
              "</table>\n",
              "</div>\n",
              "      <button class=\"colab-df-convert\" onclick=\"convertToInteractive('df-65ff9307-1c03-4a3c-bf4d-c435392ebd56')\"\n",
              "              title=\"Convert this dataframe to an interactive table.\"\n",
              "              style=\"display:none;\">\n",
              "        \n",
              "  <svg xmlns=\"http://www.w3.org/2000/svg\" height=\"24px\"viewBox=\"0 0 24 24\"\n",
              "       width=\"24px\">\n",
              "    <path d=\"M0 0h24v24H0V0z\" fill=\"none\"/>\n",
              "    <path d=\"M18.56 5.44l.94 2.06.94-2.06 2.06-.94-2.06-.94-.94-2.06-.94 2.06-2.06.94zm-11 1L8.5 8.5l.94-2.06 2.06-.94-2.06-.94L8.5 2.5l-.94 2.06-2.06.94zm10 10l.94 2.06.94-2.06 2.06-.94-2.06-.94-.94-2.06-.94 2.06-2.06.94z\"/><path d=\"M17.41 7.96l-1.37-1.37c-.4-.4-.92-.59-1.43-.59-.52 0-1.04.2-1.43.59L10.3 9.45l-7.72 7.72c-.78.78-.78 2.05 0 2.83L4 21.41c.39.39.9.59 1.41.59.51 0 1.02-.2 1.41-.59l7.78-7.78 2.81-2.81c.8-.78.8-2.07 0-2.86zM5.41 20L4 18.59l7.72-7.72 1.47 1.35L5.41 20z\"/>\n",
              "  </svg>\n",
              "      </button>\n",
              "      \n",
              "  <style>\n",
              "    .colab-df-container {\n",
              "      display:flex;\n",
              "      flex-wrap:wrap;\n",
              "      gap: 12px;\n",
              "    }\n",
              "\n",
              "    .colab-df-convert {\n",
              "      background-color: #E8F0FE;\n",
              "      border: none;\n",
              "      border-radius: 50%;\n",
              "      cursor: pointer;\n",
              "      display: none;\n",
              "      fill: #1967D2;\n",
              "      height: 32px;\n",
              "      padding: 0 0 0 0;\n",
              "      width: 32px;\n",
              "    }\n",
              "\n",
              "    .colab-df-convert:hover {\n",
              "      background-color: #E2EBFA;\n",
              "      box-shadow: 0px 1px 2px rgba(60, 64, 67, 0.3), 0px 1px 3px 1px rgba(60, 64, 67, 0.15);\n",
              "      fill: #174EA6;\n",
              "    }\n",
              "\n",
              "    [theme=dark] .colab-df-convert {\n",
              "      background-color: #3B4455;\n",
              "      fill: #D2E3FC;\n",
              "    }\n",
              "\n",
              "    [theme=dark] .colab-df-convert:hover {\n",
              "      background-color: #434B5C;\n",
              "      box-shadow: 0px 1px 3px 1px rgba(0, 0, 0, 0.15);\n",
              "      filter: drop-shadow(0px 1px 2px rgba(0, 0, 0, 0.3));\n",
              "      fill: #FFFFFF;\n",
              "    }\n",
              "  </style>\n",
              "\n",
              "      <script>\n",
              "        const buttonEl =\n",
              "          document.querySelector('#df-65ff9307-1c03-4a3c-bf4d-c435392ebd56 button.colab-df-convert');\n",
              "        buttonEl.style.display =\n",
              "          google.colab.kernel.accessAllowed ? 'block' : 'none';\n",
              "\n",
              "        async function convertToInteractive(key) {\n",
              "          const element = document.querySelector('#df-65ff9307-1c03-4a3c-bf4d-c435392ebd56');\n",
              "          const dataTable =\n",
              "            await google.colab.kernel.invokeFunction('convertToInteractive',\n",
              "                                                     [key], {});\n",
              "          if (!dataTable) return;\n",
              "\n",
              "          const docLinkHtml = 'Like what you see? Visit the ' +\n",
              "            '<a target=\"_blank\" href=https://colab.research.google.com/notebooks/data_table.ipynb>data table notebook</a>'\n",
              "            + ' to learn more about interactive tables.';\n",
              "          element.innerHTML = '';\n",
              "          dataTable['output_type'] = 'display_data';\n",
              "          await google.colab.output.renderOutput(dataTable, element);\n",
              "          const docLink = document.createElement('div');\n",
              "          docLink.innerHTML = docLinkHtml;\n",
              "          element.appendChild(docLink);\n",
              "        }\n",
              "      </script>\n",
              "    </div>\n",
              "  </div>\n",
              "  "
            ]
          },
          "metadata": {},
          "execution_count": 36
        }
      ]
    },
    {
      "cell_type": "markdown",
      "source": [
        "# 2. Analysis Data"
      ],
      "metadata": {
        "id": "sUxnRLhbusaQ"
      }
    },
    {
      "cell_type": "markdown",
      "source": [
        "#### Purchase vs other columns\n",
        "\n",
        "Because the purchase amount is the most siginificant factor of the sale,\n",
        "comparing with other columns to figure out any particular characteristics of each columns that can be important."
      ],
      "metadata": {
        "id": "EcBsOCaGuwNr"
      }
    },
    {
      "cell_type": "code",
      "source": [
        "# all columns vs purchase\n",
        "plt.figure(figsize = (16,16))\n",
        "\n",
        "## userid vs purchase\n",
        "plt.subplot(3, 3, 1)\n",
        "plt.title('UserID vs Purchase')\n",
        "sns.barplot(x = 'userid', y='purchase', data = df)\n",
        "\n",
        "## productid vs purchase\n",
        "plt.subplot(3, 3, 2)\n",
        "plt.title('Product_ID vs Purchase')\n",
        "sns.barplot(x = 'productid', y='purchase', data = df)\n",
        "\n",
        "## gender vs purchase\n",
        "plt.subplot(3, 3, 3)\n",
        "plt.title('Gender vs Purchase')\n",
        "sns.barplot(x = 'gender', y='purchase', data = df)\n",
        "\n",
        "## age vs purchase\n",
        "plt.subplot(3, 3, 4)\n",
        "plt.title('Age vs Purchase')\n",
        "sns.barplot(x = 'age', y='purchase', data = df)\n",
        "\n",
        "## occupation vs purchase\n",
        "plt.subplot(3, 3, 5)\n",
        "plt.title('Occupation vs Purchase')\n",
        "sns.barplot(x = 'occupation', y='purchase', data = df)\n",
        "\n",
        "## citycategory vs purchase\n",
        "plt.subplot(3, 3, 6)\n",
        "plt.title('City_Category vs Purchase')\n",
        "sns.barplot(x = 'citycategory', y='purchase', data = df)\n",
        "\n",
        "## stayedyears vs purchase\n",
        "plt.subplot(3, 3, 7)\n",
        "plt.title('Stay_In_Current_City_Years vs Purchase')\n",
        "sns.barplot(x = 'stayedyears', y='purchase', data = df)\n",
        "\n",
        "## maritalstatus vs purchase\n",
        "plt.subplot(3, 3, 8)\n",
        "plt.title('Marital_Status vs Purchase')\n",
        "sns.barplot(x = 'maritalstatus', y='purchase', data = df)\n",
        "\n",
        "\n",
        "## productcategory1 vs purchase\n",
        "plt.subplot(3, 3, 9)\n",
        "plt.title('Product_Category_1 vs Purchase')\n",
        "sns.barplot(x = 'productcategory1', y='purchase', data = df)"
      ],
      "metadata": {
        "colab": {
          "base_uri": "https://localhost:8080/",
          "height": 966
        },
        "id": "YSnOC5TtuxCx",
        "outputId": "7a453b5b-fee2-4499-ee1c-c9cf3d460185"
      },
      "execution_count": 37,
      "outputs": [
        {
          "output_type": "execute_result",
          "data": {
            "text/plain": [
              "<matplotlib.axes._subplots.AxesSubplot at 0x7f7ff5670910>"
            ]
          },
          "metadata": {},
          "execution_count": 37
        },
        {
          "output_type": "display_data",
          "data": {
            "text/plain": [
              "<Figure size 1152x1152 with 9 Axes>"
            ],
            "image/png": "[encoded data removed]"
          },
          "metadata": {
            "needs_background": "light"
          }
        }
      ]
    },
    {
      "cell_type": "markdown",
      "source": [
        "### **Analysis of graphs**\n",
        "\n",
        "###### **UserID & Product_ID**\n",
        "\n",
        "Since these columns have too many individual variables, it was impossible to figure out any certain characteriestics.\n",
        "\n",
        "###### **Gender**\n",
        "Based on the sex of each order, there are more orders from the male.\n",
        "\n",
        "###### **Age**\n",
        "People in range of 0-17 years old bought the least amount of product. \n",
        "Also, people in range 51-55 years old bought the most amount of product.\n",
        "However, almost all age ranges have similar number of purchase number.\n",
        "\n",
        "###### **Occupation, stayed years in city**\n",
        "There is no noticeable characteriestics in this graph.\n",
        "\n",
        "###### **Marital status**\n",
        "Almost same number of purchases were from both married and unmarried people.\n",
        "\n",
        "###### **City category & Product category**\n",
        "\n",
        "City C has the most number of orders \n",
        "Product category will be analyzed further in next few cells."
      ],
      "metadata": {
        "id": "SoBVwVtiwtIi"
      }
    },
    {
      "cell_type": "code",
      "source": [
        "# gender vs purchase amount distribution\n",
        "\n",
        "df = df.sort_values('age')\n",
        "plt.figure(figsize = (10,6))\n",
        "\n",
        "gen_vs_pa = sns.barplot(x = 'gender', y = 'purchase', hue = 'age', data = df)\n",
        "plt.title('Gender(age) vs Purchase')"
      ],
      "metadata": {
        "colab": {
          "base_uri": "https://localhost:8080/",
          "height": 422
        },
        "id": "mEN1NOnbwvkw",
        "outputId": "2a147f6c-8df5-4354-d6f4-e547e0b32496"
      },
      "execution_count": 38,
      "outputs": [
        {
          "output_type": "execute_result",
          "data": {
            "text/plain": [
              "Text(0.5, 1.0, 'Gender(age) vs Purchase')"
            ]
          },
          "metadata": {},
          "execution_count": 38
        },
        {
          "output_type": "display_data",
          "data": {
            "text/plain": [
              "<Figure size 720x432 with 1 Axes>"
            ],
            "image/png": "[encoded data removed]"
          },
          "metadata": {
            "needs_background": "light"
          }
        }
      ]
    },
    {
      "cell_type": "markdown",
      "source": [
        "##### **Gender(age) vs Purchase**\n",
        "\n",
        "Slightly more detailed information is provided compare to gender vs purchase graph.\n",
        "Not too many useful information can be seen.\n",
        "One noticeable pattern is that younger age people tend to spend less compare to older people.\n",
        "In addition, people in 51-55 years old spend more money than other age range.\n"
      ],
      "metadata": {
        "id": "8LFXtpTrxFIB"
      }
    },
    {
      "cell_type": "code",
      "source": [
        "# nubmer of purchase per product\n",
        "\n",
        "df_productpurchase = df.groupby('productid').size()\n",
        "df_productpurchase = df_productpurchase.reset_index().sort_values(0, ascending = False)\n",
        "df_productpurchase = df_productpurchase.rename(columns = {0 : 'purchasenum'})\n",
        "df_productpurchase = df_productpurchase.head(10)\n",
        "df_productpurchase"
      ],
      "metadata": {
        "colab": {
          "base_uri": "https://localhost:8080/",
          "height": 363
        },
        "id": "48LPNSyAxIWy",
        "outputId": "44ec35d7-2c57-44b1-b50d-5535a17c4b48"
      },
      "execution_count": 39,
      "outputs": [
        {
          "output_type": "execute_result",
          "data": {
            "text/plain": [
              "      productid  purchasenum\n",
              "2536  P00265242         1880\n",
              "249   P00025442         1615\n",
              "1016  P00110742         1612\n",
              "1030  P00112142         1562\n",
              "565   P00057642         1470\n",
              "1745  P00184942         1440\n",
              "458   P00046742         1438\n",
              "569   P00058042         1422\n",
              "1355  P00145042         1406\n",
              "582   P00059442         1406"
            ],
            "text/html": [
              "\n",
              "  <div id=\"df-50987c35-7f78-41bc-8189-52e6a3d30491\">\n",
              "    <div class=\"colab-df-container\">\n",
              "      <div>\n",
              "<style scoped>\n",
              "    .dataframe tbody tr th:only-of-type {\n",
              "        vertical-align: middle;\n",
              "    }\n",
              "\n",
              "    .dataframe tbody tr th {\n",
              "        vertical-align: top;\n",
              "    }\n",
              "\n",
              "    .dataframe thead th {\n",
              "        text-align: right;\n",
              "    }\n",
              "</style>\n",
              "<table border=\"1\" class=\"dataframe\">\n",
              "  <thead>\n",
              "    <tr style=\"text-align: right;\">\n",
              "      <th></th>\n",
              "      <th>productid</th>\n",
              "      <th>purchasenum</th>\n",
              "    </tr>\n",
              "  </thead>\n",
              "  <tbody>\n",
              "    <tr>\n",
              "      <th>2536</th>\n",
              "      <td>P00265242</td>\n",
              "      <td>1880</td>\n",
              "    </tr>\n",
              "    <tr>\n",
              "      <th>249</th>\n",
              "      <td>P00025442</td>\n",
              "      <td>1615</td>\n",
              "    </tr>\n",
              "    <tr>\n",
              "      <th>1016</th>\n",
              "      <td>P00110742</td>\n",
              "      <td>1612</td>\n",
              "    </tr>\n",
              "    <tr>\n",
              "      <th>1030</th>\n",
              "      <td>P00112142</td>\n",
              "      <td>1562</td>\n",
              "    </tr>\n",
              "    <tr>\n",
              "      <th>565</th>\n",
              "      <td>P00057642</td>\n",
              "      <td>1470</td>\n",
              "    </tr>\n",
              "    <tr>\n",
              "      <th>1745</th>\n",
              "      <td>P00184942</td>\n",
              "      <td>1440</td>\n",
              "    </tr>\n",
              "    <tr>\n",
              "      <th>458</th>\n",
              "      <td>P00046742</td>\n",
              "      <td>1438</td>\n",
              "    </tr>\n",
              "    <tr>\n",
              "      <th>569</th>\n",
              "      <td>P00058042</td>\n",
              "      <td>1422</td>\n",
              "    </tr>\n",
              "    <tr>\n",
              "      <th>1355</th>\n",
              "      <td>P00145042</td>\n",
              "      <td>1406</td>\n",
              "    </tr>\n",
              "    <tr>\n",
              "      <th>582</th>\n",
              "      <td>P00059442</td>\n",
              "      <td>1406</td>\n",
              "    </tr>\n",
              "  </tbody>\n",
              "</table>\n",
              "</div>\n",
              "      <button class=\"colab-df-convert\" onclick=\"convertToInteractive('df-50987c35-7f78-41bc-8189-52e6a3d30491')\"\n",
              "              title=\"Convert this dataframe to an interactive table.\"\n",
              "              style=\"display:none;\">\n",
              "        \n",
              "  <svg xmlns=\"http://www.w3.org/2000/svg\" height=\"24px\"viewBox=\"0 0 24 24\"\n",
              "       width=\"24px\">\n",
              "    <path d=\"M0 0h24v24H0V0z\" fill=\"none\"/>\n",
              "    <path d=\"M18.56 5.44l.94 2.06.94-2.06 2.06-.94-2.06-.94-.94-2.06-.94 2.06-2.06.94zm-11 1L8.5 8.5l.94-2.06 2.06-.94-2.06-.94L8.5 2.5l-.94 2.06-2.06.94zm10 10l.94 2.06.94-2.06 2.06-.94-2.06-.94-.94-2.06-.94 2.06-2.06.94z\"/><path d=\"M17.41 7.96l-1.37-1.37c-.4-.4-.92-.59-1.43-.59-.52 0-1.04.2-1.43.59L10.3 9.45l-7.72 7.72c-.78.78-.78 2.05 0 2.83L4 21.41c.39.39.9.59 1.41.59.51 0 1.02-.2 1.41-.59l7.78-7.78 2.81-2.81c.8-.78.8-2.07 0-2.86zM5.41 20L4 18.59l7.72-7.72 1.47 1.35L5.41 20z\"/>\n",
              "  </svg>\n",
              "      </button>\n",
              "      \n",
              "  <style>\n",
              "    .colab-df-container {\n",
              "      display:flex;\n",
              "      flex-wrap:wrap;\n",
              "      gap: 12px;\n",
              "    }\n",
              "\n",
              "    .colab-df-convert {\n",
              "      background-color: #E8F0FE;\n",
              "      border: none;\n",
              "      border-radius: 50%;\n",
              "      cursor: pointer;\n",
              "      display: none;\n",
              "      fill: #1967D2;\n",
              "      height: 32px;\n",
              "      padding: 0 0 0 0;\n",
              "      width: 32px;\n",
              "    }\n",
              "\n",
              "    .colab-df-convert:hover {\n",
              "      background-color: #E2EBFA;\n",
              "      box-shadow: 0px 1px 2px rgba(60, 64, 67, 0.3), 0px 1px 3px 1px rgba(60, 64, 67, 0.15);\n",
              "      fill: #174EA6;\n",
              "    }\n",
              "\n",
              "    [theme=dark] .colab-df-convert {\n",
              "      background-color: #3B4455;\n",
              "      fill: #D2E3FC;\n",
              "    }\n",
              "\n",
              "    [theme=dark] .colab-df-convert:hover {\n",
              "      background-color: #434B5C;\n",
              "      box-shadow: 0px 1px 3px 1px rgba(0, 0, 0, 0.15);\n",
              "      filter: drop-shadow(0px 1px 2px rgba(0, 0, 0, 0.3));\n",
              "      fill: #FFFFFF;\n",
              "    }\n",
              "  </style>\n",
              "\n",
              "      <script>\n",
              "        const buttonEl =\n",
              "          document.querySelector('#df-50987c35-7f78-41bc-8189-52e6a3d30491 button.colab-df-convert');\n",
              "        buttonEl.style.display =\n",
              "          google.colab.kernel.accessAllowed ? 'block' : 'none';\n",
              "\n",
              "        async function convertToInteractive(key) {\n",
              "          const element = document.querySelector('#df-50987c35-7f78-41bc-8189-52e6a3d30491');\n",
              "          const dataTable =\n",
              "            await google.colab.kernel.invokeFunction('convertToInteractive',\n",
              "                                                     [key], {});\n",
              "          if (!dataTable) return;\n",
              "\n",
              "          const docLinkHtml = 'Like what you see? Visit the ' +\n",
              "            '<a target=\"_blank\" href=https://colab.research.google.com/notebooks/data_table.ipynb>data table notebook</a>'\n",
              "            + ' to learn more about interactive tables.';\n",
              "          element.innerHTML = '';\n",
              "          dataTable['output_type'] = 'display_data';\n",
              "          await google.colab.output.renderOutput(dataTable, element);\n",
              "          const docLink = document.createElement('div');\n",
              "          docLink.innerHTML = docLinkHtml;\n",
              "          element.appendChild(docLink);\n",
              "        }\n",
              "      </script>\n",
              "    </div>\n",
              "  </div>\n",
              "  "
            ]
          },
          "metadata": {},
          "execution_count": 39
        }
      ]
    },
    {
      "cell_type": "code",
      "source": [
        "# top 10 nubmer of purchase per product data visualization\n",
        "plt.figure(figsize = (13, 6))\n",
        "sns.barplot(x = 'productid', y = 'purchasenum', data = df_productpurchase)\n",
        "\n",
        "plt.title('Product_ID vs Purchase Number')"
      ],
      "metadata": {
        "colab": {
          "base_uri": "https://localhost:8080/",
          "height": 422
        },
        "id": "VuUE86ySxPcB",
        "outputId": "70c1aae6-77e7-4782-ced5-fa0b2bdecd16"
      },
      "execution_count": 42,
      "outputs": [
        {
          "output_type": "execute_result",
          "data": {
            "text/plain": [
              "Text(0.5, 1.0, 'Product_ID vs Purchase Number')"
            ]
          },
          "metadata": {},
          "execution_count": 42
        },
        {
          "output_type": "display_data",
          "data": {
            "text/plain": [
              "<Figure size 936x432 with 1 Axes>"
            ],
            "image/png": "[encoded data removed]"
          },
          "metadata": {
            "needs_background": "light"
          }
        }
      ]
    },
    {
      "cell_type": "markdown",
      "source": [
        "##### **Product category and id combination analysis**\n",
        "\n",
        "First graph shows the top 10 most famous product categories in the tables.\n",
        "Noticeably 1,5 and 8 had very large amount of orders.\n",
        "Second graph shows the total sales for each category.\n",
        "Even though the number of orders are very similar among 1, 5, and 8, category 1 has very significant amount of total sales compare to other categories."
      ],
      "metadata": {
        "id": "B1OJYOTbxjWl"
      }
    },
    {
      "cell_type": "markdown",
      "source": [
        "### **Category Analysis**\n",
        "\n",
        "Even though the category 1,5,8 have similar number of orders, total amount of order for category 1 is significantly larger than category 5 and 8."
      ],
      "metadata": {
        "id": "4EEg1GRkxpGk"
      }
    },
    {
      "cell_type": "code",
      "source": [
        "# City A analysis\n",
        "\n",
        "df_city_a = df[df.citycategory == 'A']\n",
        "df_city_a_pn = df_city_a.groupby('productcategory1').size()\n",
        "df_city_a_pa = df_city_a.groupby('productcategory1').purchase.sum()\n",
        "\n",
        "df_city_a_pn_top10 = df_city_a_pn.reset_index().rename(columns = {0: 'purchase_number'}).head(10)\n",
        "df_city_a_pa_top10 = df_city_a_pa.reset_index().rename(columns = {'purchase' : 'purchase_amount'}).head(10)\n",
        "\n",
        "fig, (ax1, ax2) = plt.subplots(2)\n",
        "\n",
        "sns.barplot(ax = ax1, x= 'productcategory1', y = 'purchase_number', data = df_city_a_pn_top10,\n",
        "           order = df_city_a_pn_top10.sort_values('purchase_number', ascending = False).productcategory1)\n",
        "\n",
        "\n",
        "sns.barplot(ax = ax2, x= 'productcategory1', y = 'purchase_amount', data = df_city_a_pa_top10,\n",
        "           order = df_city_a_pa_top10.sort_values('purchase_amount', ascending = False).productcategory1)\n"
      ],
      "metadata": {
        "colab": {
          "base_uri": "https://localhost:8080/",
          "height": 297
        },
        "id": "cXvhg6cXxnHF",
        "outputId": "6179ef60-3abf-42cd-94b2-592c5c7dfb6c"
      },
      "execution_count": 48,
      "outputs": [
        {
          "output_type": "execute_result",
          "data": {
            "text/plain": [
              "<matplotlib.axes._subplots.AxesSubplot at 0x7f7fdcc3d6d0>"
            ]
          },
          "metadata": {},
          "execution_count": 48
        },
        {
          "output_type": "display_data",
          "data": {
            "text/plain": [
              "<Figure size 432x288 with 2 Axes>"
            ],
            "image/png": "[encoded data removed]"
          },
          "metadata": {
            "needs_background": "light"
          }
        }
      ]
    },
    {
      "cell_type": "code",
      "source": [
        "# City B analysis\n",
        "\n",
        "df_city_b = df[df.citycategory == 'B']\n",
        "df_city_b_pn = df_city_b.groupby('productcategory1').size()\n",
        "df_city_b_pa = df_city_b.groupby('productcategory1').purchase.sum()\n",
        "\n",
        "df_city_b_pn_top10 = df_city_b_pn.reset_index().rename(columns = {0: 'purchase_number'}).head(10)\n",
        "df_city_b_pa_top10 = df_city_b_pa.reset_index().rename(columns = {'purchase' : 'purchase_amount'}).head(10)\n",
        "\n",
        "fig, (ax1, ax2) = plt.subplots(2)\n",
        "\n",
        "sns.barplot(ax = ax1, x= 'productcategory1', y = 'purchase_number', data = df_city_b_pn_top10,\n",
        "           order = df_city_b_pn_top10.sort_values('purchase_number', ascending = False).productcategory1)\n",
        "\n",
        "sns.barplot(ax = ax2, x= 'productcategory1', y = 'purchase_amount', data = df_city_b_pa_top10,\n",
        "           order = df_city_b_pa_top10.sort_values('purchase_amount', ascending = False).productcategory1)"
      ],
      "metadata": {
        "colab": {
          "base_uri": "https://localhost:8080/",
          "height": 297
        },
        "id": "5cvJdhE1xtp4",
        "outputId": "d7d5a3c7-5a53-41e3-8246-8585eb0376b1"
      },
      "execution_count": 49,
      "outputs": [
        {
          "output_type": "execute_result",
          "data": {
            "text/plain": [
              "<matplotlib.axes._subplots.AxesSubplot at 0x7f7fdbc91dd0>"
            ]
          },
          "metadata": {},
          "execution_count": 49
        },
        {
          "output_type": "display_data",
          "data": {
            "text/plain": [
              "<Figure size 432x288 with 2 Axes>"
            ],
            "image/png": "[encoded data removed]"
          },
          "metadata": {
            "needs_background": "light"
          }
        }
      ]
    },
    {
      "cell_type": "code",
      "source": [
        "# City C analysis\n",
        "\n",
        "df_city_c = df[df.citycategory == 'B']\n",
        "df_city_c_pn = df_city_c.groupby('productcategory1').size()\n",
        "df_city_c_pa = df_city_c.groupby('productcategory1').purchase.sum()\n",
        "\n",
        "df_city_c_pn_top10 = df_city_c_pn.reset_index().rename(columns = {0: 'purchase_number'}).head(10)\n",
        "df_city_c_pa_top10 = df_city_c_pa.reset_index().rename(columns = {'purchase' : 'purchase_amount'}).head(10)\n",
        "\n",
        "fig, (ax1, ax2) = plt.subplots(2)\n",
        "\n",
        "sns.barplot(ax = ax1, x= 'productcategory1', y = 'purchase_number', data = df_city_c_pn_top10,\n",
        "           order = df_city_c_pn_top10.sort_values('purchase_number', ascending = False).productcategory1)\n",
        "\n",
        "sns.barplot(ax = ax2, x= 'productcategory1', y = 'purchase_amount', data = df_city_c_pa_top10,\n",
        "           order = df_city_c_pa_top10.sort_values('purchase_amount', ascending = False).productcategory1)"
      ],
      "metadata": {
        "colab": {
          "base_uri": "https://localhost:8080/",
          "height": 297
        },
        "id": "g8lWc4QQ0EqC",
        "outputId": "bfc6df6a-6381-445e-91d4-798ed796be70"
      },
      "execution_count": 50,
      "outputs": [
        {
          "output_type": "execute_result",
          "data": {
            "text/plain": [
              "<matplotlib.axes._subplots.AxesSubplot at 0x7f7fdcde9190>"
            ]
          },
          "metadata": {},
          "execution_count": 50
        },
        {
          "output_type": "display_data",
          "data": {
            "text/plain": [
              "<Figure size 432x288 with 2 Axes>"
            ],
            "image/png": "[encoded data removed]"
          },
          "metadata": {
            "needs_background": "light"
          }
        }
      ]
    },
    {
      "cell_type": "markdown",
      "source": [
        " ##### Analysis on each city\n",
        "    \n",
        "There are 6 graphs that compaes number of orders and total sales for each city.\n",
        "All cities shows very similar trend which means category 1,5, and 8 for famous category and category 1 for most sales."
      ],
      "metadata": {
        "id": "RaIxUB360HcH"
      }
    }
  ]
}